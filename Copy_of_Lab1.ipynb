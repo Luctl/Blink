{
  "nbformat": 4,
  "nbformat_minor": 0,
  "metadata": {
    "colab": {
      "provenance": [],
      "include_colab_link": true
    },
    "kernelspec": {
      "name": "python3",
      "display_name": "Python 3"
    },
    "language_info": {
      "name": "python"
    }
  },
  "cells": [
    {
      "cell_type": "markdown",
      "metadata": {
        "id": "view-in-github",
        "colab_type": "text"
      },
      "source": [
        "<a href=\"https://colab.research.google.com/github/Luctl/Blink/blob/main/Copy_of_Lab1.ipynb\" target=\"_parent\"><img src=\"https://colab.research.google.com/assets/colab-badge.svg\" alt=\"Open In Colab\"/></a>"
      ]
    },
    {
      "cell_type": "code",
      "execution_count": 14,
      "metadata": {
        "id": "x8tyuXRgQjR5",
        "colab": {
          "base_uri": "https://localhost:8080/"
        },
        "outputId": "2813bddd-321f-4f8a-94d2-b9ca0dd432a7"
      },
      "outputs": [
        {
          "output_type": "execute_result",
          "data": {
            "text/plain": [
              "Cycling     22\n",
              "Running     15\n",
              "Swimming    13\n",
              "Name: Activity, dtype: int64"
            ]
          },
          "metadata": {},
          "execution_count": 14
        }
      ],
      "source": [
        "import pandas as pd\n",
        "import numpy as np\n",
        "\n",
        "# Define the columns of the DataFrame\n",
        "columns = ['Name', 'Activity', 'Time Spent', 'Location']\n",
        "\n",
        "# Define the number of rows in the DataFrame\n",
        "n_rows = 50\n",
        "\n",
        "# Create an empty DataFrame with the specified columns\n",
        "df = pd.DataFrame(columns=columns)\n",
        "\n",
        "# Add data to the DataFrame\n",
        "for i in range(n_rows):\n",
        "    df.loc[i] = ['Person ' + str(i+1), np.random.choice(['Running', 'Cycling', 'Swimming']), np.random.randint(10, 120), np.random.choice(['Gym', 'Outdoor', 'Home'])]\n",
        "\n",
        "# Print the DataFrame\n",
        "\n",
        "\n",
        "\n"
      ]
    },
    {
      "cell_type": "code",
      "source": [],
      "metadata": {
        "colab": {
          "base_uri": "https://localhost:8080/"
        },
        "id": "KwAsqOfNXHgJ",
        "outputId": "f09ca454-f28f-4d9a-8a03-fbd7f0481811"
      },
      "execution_count": 22,
      "outputs": [
        {
          "output_type": "stream",
          "name": "stdout",
          "text": [
            "21\n"
          ]
        }
      ]
    },
    {
      "cell_type": "code",
      "source": [
        "df['Activity'].value_counts()"
      ],
      "metadata": {
        "colab": {
          "base_uri": "https://localhost:8080/"
        },
        "id": "G-sYkjexW9yB",
        "outputId": "2d0e0f38-4c4c-41d3-e30d-8510f8882062"
      },
      "execution_count": 15,
      "outputs": [
        {
          "output_type": "execute_result",
          "data": {
            "text/plain": [
              "Cycling     22\n",
              "Running     15\n",
              "Swimming    13\n",
              "Name: Activity, dtype: int64"
            ]
          },
          "metadata": {},
          "execution_count": 15
        }
      ]
    },
    {
      "cell_type": "code",
      "source": [],
      "metadata": {
        "id": "QLEw-BHdS7M1"
      },
      "execution_count": null,
      "outputs": []
    },
    {
      "cell_type": "markdown",
      "source": [
        "1. Count all the cycling activity, running, and swimming\n",
        "2. Calculate the average timespent in the outdoor location.\n",
        "3. Find all swimming activities at home\n",
        "4. Find the maximum time at the gym"
      ],
      "metadata": {
        "id": "xcfl646TQ1pW"
      }
    },
    {
      "cell_type": "code",
      "source": [
        "import pandas as pd\n",
        "import numpy as np\n",
        "\n",
        "columns = ['Name', 'Activity', 'Time Spent', 'Location']\n",
        "\n",
        "n_rows = 50\n",
        "\n",
        "df = pd.DataFrame(columns=columns)\n",
        "\n",
        "for i in range(n_rows):\n",
        "    df.loc[i] = ['Person ' + str(i+1), np.random.choice(['Running', 'Cycling', 'Swimming']), np.random.randint(10, 120), np.random.choice(['Gym', 'Outdoor', 'Home'])]\n",
        "\n",
        "\n",
        "\n",
        "print(df)"
      ],
      "metadata": {
        "id": "fhSpa35qS9c0",
        "colab": {
          "base_uri": "https://localhost:8080/"
        },
        "outputId": "f250b327-f11f-4807-b9e7-57e0be04b6ad"
      },
      "execution_count": 5,
      "outputs": [
        {
          "output_type": "stream",
          "name": "stdout",
          "text": [
            "         Name  Activity  Time Spent Location\n",
            "0    Person 1  Swimming         107  Outdoor\n",
            "1    Person 2  Swimming          17  Outdoor\n",
            "2    Person 3  Swimming          63      Gym\n",
            "3    Person 4  Swimming          69      Gym\n",
            "4    Person 5  Swimming          97  Outdoor\n",
            "5    Person 6   Running         100     Home\n",
            "6    Person 7  Swimming         116     Home\n",
            "7    Person 8  Swimming          36  Outdoor\n",
            "8    Person 9   Running          10  Outdoor\n",
            "9   Person 10   Running         114     Home\n",
            "10  Person 11  Swimming         117     Home\n",
            "11  Person 12   Running          17  Outdoor\n",
            "12  Person 13   Running          66     Home\n",
            "13  Person 14   Running         115      Gym\n",
            "14  Person 15   Cycling          59  Outdoor\n",
            "15  Person 16   Cycling          55  Outdoor\n",
            "16  Person 17  Swimming         118      Gym\n",
            "17  Person 18   Cycling          17     Home\n",
            "18  Person 19   Running          93      Gym\n",
            "19  Person 20   Running         105  Outdoor\n",
            "20  Person 21   Running          26  Outdoor\n",
            "21  Person 22   Running          22      Gym\n",
            "22  Person 23   Cycling          95  Outdoor\n",
            "23  Person 24  Swimming         119      Gym\n",
            "24  Person 25   Running         100     Home\n",
            "25  Person 26   Cycling         101  Outdoor\n",
            "26  Person 27   Cycling          75  Outdoor\n",
            "27  Person 28  Swimming         104  Outdoor\n",
            "28  Person 29  Swimming          42     Home\n",
            "29  Person 30   Cycling          98     Home\n",
            "30  Person 31  Swimming          74  Outdoor\n",
            "31  Person 32   Cycling          68     Home\n",
            "32  Person 33  Swimming         101  Outdoor\n",
            "33  Person 34  Swimming          31  Outdoor\n",
            "34  Person 35   Cycling         115      Gym\n",
            "35  Person 36  Swimming         117  Outdoor\n",
            "36  Person 37   Running          51  Outdoor\n",
            "37  Person 38   Running          43     Home\n",
            "38  Person 39  Swimming          81  Outdoor\n",
            "39  Person 40   Cycling          36  Outdoor\n",
            "40  Person 41   Cycling          66  Outdoor\n",
            "41  Person 42   Cycling         109  Outdoor\n",
            "42  Person 43  Swimming          90     Home\n",
            "43  Person 44   Cycling          43  Outdoor\n",
            "44  Person 45   Running          59     Home\n",
            "45  Person 46   Running         109  Outdoor\n",
            "46  Person 47  Swimming          79      Gym\n",
            "47  Person 48   Running         115      Gym\n",
            "48  Person 49  Swimming          62      Gym\n",
            "49  Person 50   Cycling          78  Outdoor\n"
          ]
        }
      ]
    }
  ]
}